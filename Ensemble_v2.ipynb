{
 "cells": [
  {
   "cell_type": "code",
   "execution_count": 1,
   "metadata": {},
   "outputs": [],
   "source": [
    "# import all necessary libraries\n",
    "# data handling libraries\n",
    "import numpy as np\n",
    "import pandas as pd\n",
    "from numpy import asarray\n",
    "\n",
    "# visulization libraries\n",
    "import graphviz\n",
    "import matplotlib.pyplot as plt\n",
    "import pydotplus\n",
    "from matplotlib.legend_handler import HandlerLine2D\n",
    "from IPython.display import Image  \n",
    "from sklearn.tree import export_graphviz\n",
    "from six import StringIO \n",
    "\n",
    "# preprocessing\n",
    "from sklearn.preprocessing import OrdinalEncoder\n",
    "from sklearn.preprocessing import StandardScaler\n",
    "\n",
    "# models\n",
    "from sklearn.tree import DecisionTreeClassifier\n",
    "from sklearn.ensemble import RandomForestClassifier\n",
    "from sklearn.ensemble import AdaBoostClassifier\n",
    "from sklearn.ensemble import GradientBoostingClassifier\n",
    "from xgboost import XGBClassifier\n",
    "\n",
    "\n",
    "# statistical analysis and metrics\n",
    "from scipy import stats\n",
    "\n",
    "from sklearn.linear_model import LogisticRegression\n",
    "\n",
    "from sklearn.metrics import roc_auc_score\n",
    "from sklearn.metrics import roc_curve, auc\n",
    "from sklearn.metrics import confusion_matrix, classification_report\n",
    "from sklearn.metrics import recall_score, f1_score\n",
    "from sklearn.metrics import accuracy_score\n",
    "from sklearn.metrics import precision_score\n"
   ]
  },
  {
   "cell_type": "code",
   "execution_count": 2,
   "metadata": {},
   "outputs": [],
   "source": [
    "# pip install xgboost"
   ]
  },
  {
   "cell_type": "code",
   "execution_count": 3,
   "metadata": {},
   "outputs": [],
   "source": [
    "# load data set\n",
    "df=pd.read_csv('E:/Downloads/CA-04/census_data.csv')"
   ]
  },
  {
   "cell_type": "code",
   "execution_count": 4,
   "metadata": {},
   "outputs": [
    {
     "data": {
      "text/html": [
       "<div>\n",
       "<style scoped>\n",
       "    .dataframe tbody tr th:only-of-type {\n",
       "        vertical-align: middle;\n",
       "    }\n",
       "\n",
       "    .dataframe tbody tr th {\n",
       "        vertical-align: top;\n",
       "    }\n",
       "\n",
       "    .dataframe thead th {\n",
       "        text-align: right;\n",
       "    }\n",
       "</style>\n",
       "<table border=\"1\" class=\"dataframe\">\n",
       "  <thead>\n",
       "    <tr style=\"text-align: right;\">\n",
       "      <th></th>\n",
       "      <th>hours_per_week_bin</th>\n",
       "      <th>occupation_bin</th>\n",
       "      <th>msr_bin</th>\n",
       "      <th>capital_gl_bin</th>\n",
       "      <th>race_sex_bin</th>\n",
       "      <th>education_num_bin</th>\n",
       "      <th>education_bin</th>\n",
       "      <th>workclass_bin</th>\n",
       "      <th>age_bin</th>\n",
       "      <th>flag</th>\n",
       "      <th>y</th>\n",
       "    </tr>\n",
       "  </thead>\n",
       "  <tbody>\n",
       "    <tr>\n",
       "      <th>0</th>\n",
       "      <td>b. 31-40</td>\n",
       "      <td>b. Mid - Low</td>\n",
       "      <td>b. Mid</td>\n",
       "      <td>c. &gt; 0</td>\n",
       "      <td>c. High</td>\n",
       "      <td>c. 13</td>\n",
       "      <td>c. Bachelors</td>\n",
       "      <td>b. income</td>\n",
       "      <td>d. 36-40 &amp; 56-60</td>\n",
       "      <td>train</td>\n",
       "      <td>0</td>\n",
       "    </tr>\n",
       "    <tr>\n",
       "      <th>1</th>\n",
       "      <td>a. 0-30</td>\n",
       "      <td>e. High</td>\n",
       "      <td>c. High</td>\n",
       "      <td>a. = 0</td>\n",
       "      <td>c. High</td>\n",
       "      <td>c. 13</td>\n",
       "      <td>c. Bachelors</td>\n",
       "      <td>b. income</td>\n",
       "      <td>e. 40-55</td>\n",
       "      <td>train</td>\n",
       "      <td>0</td>\n",
       "    </tr>\n",
       "    <tr>\n",
       "      <th>2</th>\n",
       "      <td>b. 31-40</td>\n",
       "      <td>a. Low</td>\n",
       "      <td>b. Mid</td>\n",
       "      <td>a. = 0</td>\n",
       "      <td>c. High</td>\n",
       "      <td>b. 9-12</td>\n",
       "      <td>b. Mid</td>\n",
       "      <td>b. income</td>\n",
       "      <td>d. 36-40 &amp; 56-60</td>\n",
       "      <td>train</td>\n",
       "      <td>0</td>\n",
       "    </tr>\n",
       "    <tr>\n",
       "      <th>3</th>\n",
       "      <td>b. 31-40</td>\n",
       "      <td>a. Low</td>\n",
       "      <td>c. High</td>\n",
       "      <td>a. = 0</td>\n",
       "      <td>b. Mid</td>\n",
       "      <td>a. 0-8</td>\n",
       "      <td>a. Low</td>\n",
       "      <td>b. income</td>\n",
       "      <td>e. 40-55</td>\n",
       "      <td>train</td>\n",
       "      <td>0</td>\n",
       "    </tr>\n",
       "    <tr>\n",
       "      <th>4</th>\n",
       "      <td>b. 31-40</td>\n",
       "      <td>e. High</td>\n",
       "      <td>c. High</td>\n",
       "      <td>a. = 0</td>\n",
       "      <td>a. Low</td>\n",
       "      <td>c. 13</td>\n",
       "      <td>c. Bachelors</td>\n",
       "      <td>b. income</td>\n",
       "      <td>b. 26-30 &amp; 71-100</td>\n",
       "      <td>train</td>\n",
       "      <td>0</td>\n",
       "    </tr>\n",
       "    <tr>\n",
       "      <th>5</th>\n",
       "      <td>b. 31-40</td>\n",
       "      <td>e. High</td>\n",
       "      <td>c. High</td>\n",
       "      <td>a. = 0</td>\n",
       "      <td>b. Mid</td>\n",
       "      <td>d. 14</td>\n",
       "      <td>d. Masters</td>\n",
       "      <td>b. income</td>\n",
       "      <td>d. 36-40 &amp; 56-60</td>\n",
       "      <td>train</td>\n",
       "      <td>0</td>\n",
       "    </tr>\n",
       "    <tr>\n",
       "      <th>6</th>\n",
       "      <td>a. 0-30</td>\n",
       "      <td>a. Low</td>\n",
       "      <td>b. Mid</td>\n",
       "      <td>a. = 0</td>\n",
       "      <td>a. Low</td>\n",
       "      <td>a. 0-8</td>\n",
       "      <td>a. Low</td>\n",
       "      <td>b. income</td>\n",
       "      <td>e. 40-55</td>\n",
       "      <td>train</td>\n",
       "      <td>0</td>\n",
       "    </tr>\n",
       "    <tr>\n",
       "      <th>7</th>\n",
       "      <td>d. 41-50 &amp; 61-70</td>\n",
       "      <td>e. High</td>\n",
       "      <td>c. High</td>\n",
       "      <td>a. = 0</td>\n",
       "      <td>c. High</td>\n",
       "      <td>b. 9-12</td>\n",
       "      <td>b. Mid</td>\n",
       "      <td>b. income</td>\n",
       "      <td>e. 40-55</td>\n",
       "      <td>train</td>\n",
       "      <td>1</td>\n",
       "    </tr>\n",
       "    <tr>\n",
       "      <th>8</th>\n",
       "      <td>d. 41-50 &amp; 61-70</td>\n",
       "      <td>e. High</td>\n",
       "      <td>b. Mid</td>\n",
       "      <td>c. &gt; 0</td>\n",
       "      <td>b. Mid</td>\n",
       "      <td>d. 14</td>\n",
       "      <td>d. Masters</td>\n",
       "      <td>b. income</td>\n",
       "      <td>c. 31-35 &amp; 61-70</td>\n",
       "      <td>train</td>\n",
       "      <td>1</td>\n",
       "    </tr>\n",
       "    <tr>\n",
       "      <th>9</th>\n",
       "      <td>b. 31-40</td>\n",
       "      <td>e. High</td>\n",
       "      <td>c. High</td>\n",
       "      <td>c. &gt; 0</td>\n",
       "      <td>c. High</td>\n",
       "      <td>c. 13</td>\n",
       "      <td>c. Bachelors</td>\n",
       "      <td>b. income</td>\n",
       "      <td>e. 40-55</td>\n",
       "      <td>train</td>\n",
       "      <td>1</td>\n",
       "    </tr>\n",
       "  </tbody>\n",
       "</table>\n",
       "</div>"
      ],
      "text/plain": [
       "  hours_per_week_bin occupation_bin  msr_bin capital_gl_bin race_sex_bin  \\\n",
       "0           b. 31-40   b. Mid - Low   b. Mid         c. > 0      c. High   \n",
       "1            a. 0-30        e. High  c. High         a. = 0      c. High   \n",
       "2           b. 31-40         a. Low   b. Mid         a. = 0      c. High   \n",
       "3           b. 31-40         a. Low  c. High         a. = 0       b. Mid   \n",
       "4           b. 31-40        e. High  c. High         a. = 0       a. Low   \n",
       "5           b. 31-40        e. High  c. High         a. = 0       b. Mid   \n",
       "6            a. 0-30         a. Low   b. Mid         a. = 0       a. Low   \n",
       "7   d. 41-50 & 61-70        e. High  c. High         a. = 0      c. High   \n",
       "8   d. 41-50 & 61-70        e. High   b. Mid         c. > 0       b. Mid   \n",
       "9           b. 31-40        e. High  c. High         c. > 0      c. High   \n",
       "\n",
       "  education_num_bin education_bin workclass_bin            age_bin   flag  y  \n",
       "0             c. 13  c. Bachelors     b. income   d. 36-40 & 56-60  train  0  \n",
       "1             c. 13  c. Bachelors     b. income           e. 40-55  train  0  \n",
       "2           b. 9-12        b. Mid     b. income   d. 36-40 & 56-60  train  0  \n",
       "3            a. 0-8        a. Low     b. income           e. 40-55  train  0  \n",
       "4             c. 13  c. Bachelors     b. income  b. 26-30 & 71-100  train  0  \n",
       "5             d. 14    d. Masters     b. income   d. 36-40 & 56-60  train  0  \n",
       "6            a. 0-8        a. Low     b. income           e. 40-55  train  0  \n",
       "7           b. 9-12        b. Mid     b. income           e. 40-55  train  1  \n",
       "8             d. 14    d. Masters     b. income   c. 31-35 & 61-70  train  1  \n",
       "9             c. 13  c. Bachelors     b. income           e. 40-55  train  1  "
      ]
     },
     "execution_count": 4,
     "metadata": {},
     "output_type": "execute_result"
    }
   ],
   "source": [
    "# take look at data - top 10 rows, shows binned data and bin ranges\n",
    "df.head(10)"
   ]
  },
  {
   "cell_type": "code",
   "execution_count": 5,
   "metadata": {},
   "outputs": [
    {
     "data": {
      "text/plain": [
       "hours_per_week_bin    0\n",
       "occupation_bin        0\n",
       "msr_bin               0\n",
       "capital_gl_bin        0\n",
       "race_sex_bin          0\n",
       "education_num_bin     0\n",
       "education_bin         0\n",
       "workclass_bin         0\n",
       "age_bin               0\n",
       "flag                  0\n",
       "y                     0\n",
       "dtype: int64"
      ]
     },
     "execution_count": 5,
     "metadata": {},
     "output_type": "execute_result"
    }
   ],
   "source": [
    "# looking for missing data - no nulls found, data looks clean\n",
    "df.isnull().sum()"
   ]
  },
  {
   "cell_type": "code",
   "execution_count": 6,
   "metadata": {},
   "outputs": [
    {
     "data": {
      "text/plain": [
       "train    32561\n",
       "test     16281\n",
       "Name: flag, dtype: int64"
      ]
     },
     "execution_count": 6,
     "metadata": {},
     "output_type": "execute_result"
    }
   ],
   "source": [
    "#count train vs. test\n",
    "df.flag.value_counts()"
   ]
  },
  {
   "cell_type": "code",
   "execution_count": 7,
   "metadata": {},
   "outputs": [
    {
     "data": {
      "text/plain": [
       "['hours_per_week_bin',\n",
       " 'occupation_bin',\n",
       " 'msr_bin',\n",
       " 'capital_gl_bin',\n",
       " 'race_sex_bin',\n",
       " 'education_num_bin',\n",
       " 'education_bin',\n",
       " 'workclass_bin',\n",
       " 'age_bin']"
      ]
     },
     "execution_count": 7,
     "metadata": {},
     "output_type": "execute_result"
    }
   ],
   "source": [
    "# create a list of column names from frame - check that names were captured correctly \n",
    "# then remove 'flag' and 'y' because they are not a part of the training data\n",
    "cols=list(df)\n",
    "to_be_removed=['flag','y']\n",
    "cols=[i for i in cols if i not in to_be_removed]\n",
    "cols"
   ]
  },
  {
   "cell_type": "code",
   "execution_count": 8,
   "metadata": {},
   "outputs": [],
   "source": [
    "# We will be using classifier models that cannot handle categorical data natively - all data is enumerated (excepting 'flag' and 'y')\n",
    "# 'flag' and 'y' are not used to train\n",
    "# duplicate dataframe is created and then modified using OrdinalEncoder\n",
    "encoder = OrdinalEncoder()\n",
    "df_enum=df\n",
    "df_enum[cols]=encoder.fit_transform(df[cols])"
   ]
  },
  {
   "cell_type": "code",
   "execution_count": 9,
   "metadata": {},
   "outputs": [
    {
     "data": {
      "text/html": [
       "<div>\n",
       "<style scoped>\n",
       "    .dataframe tbody tr th:only-of-type {\n",
       "        vertical-align: middle;\n",
       "    }\n",
       "\n",
       "    .dataframe tbody tr th {\n",
       "        vertical-align: top;\n",
       "    }\n",
       "\n",
       "    .dataframe thead th {\n",
       "        text-align: right;\n",
       "    }\n",
       "</style>\n",
       "<table border=\"1\" class=\"dataframe\">\n",
       "  <thead>\n",
       "    <tr style=\"text-align: right;\">\n",
       "      <th></th>\n",
       "      <th>hours_per_week_bin</th>\n",
       "      <th>occupation_bin</th>\n",
       "      <th>msr_bin</th>\n",
       "      <th>capital_gl_bin</th>\n",
       "      <th>race_sex_bin</th>\n",
       "      <th>education_num_bin</th>\n",
       "      <th>education_bin</th>\n",
       "      <th>workclass_bin</th>\n",
       "      <th>age_bin</th>\n",
       "      <th>flag</th>\n",
       "      <th>y</th>\n",
       "    </tr>\n",
       "  </thead>\n",
       "  <tbody>\n",
       "    <tr>\n",
       "      <th>0</th>\n",
       "      <td>1.0</td>\n",
       "      <td>1.0</td>\n",
       "      <td>1.0</td>\n",
       "      <td>2.0</td>\n",
       "      <td>2.0</td>\n",
       "      <td>2.0</td>\n",
       "      <td>2.0</td>\n",
       "      <td>1.0</td>\n",
       "      <td>3.0</td>\n",
       "      <td>train</td>\n",
       "      <td>0</td>\n",
       "    </tr>\n",
       "    <tr>\n",
       "      <th>1</th>\n",
       "      <td>0.0</td>\n",
       "      <td>4.0</td>\n",
       "      <td>2.0</td>\n",
       "      <td>0.0</td>\n",
       "      <td>2.0</td>\n",
       "      <td>2.0</td>\n",
       "      <td>2.0</td>\n",
       "      <td>1.0</td>\n",
       "      <td>4.0</td>\n",
       "      <td>train</td>\n",
       "      <td>0</td>\n",
       "    </tr>\n",
       "    <tr>\n",
       "      <th>2</th>\n",
       "      <td>1.0</td>\n",
       "      <td>0.0</td>\n",
       "      <td>1.0</td>\n",
       "      <td>0.0</td>\n",
       "      <td>2.0</td>\n",
       "      <td>1.0</td>\n",
       "      <td>1.0</td>\n",
       "      <td>1.0</td>\n",
       "      <td>3.0</td>\n",
       "      <td>train</td>\n",
       "      <td>0</td>\n",
       "    </tr>\n",
       "    <tr>\n",
       "      <th>3</th>\n",
       "      <td>1.0</td>\n",
       "      <td>0.0</td>\n",
       "      <td>2.0</td>\n",
       "      <td>0.0</td>\n",
       "      <td>1.0</td>\n",
       "      <td>0.0</td>\n",
       "      <td>0.0</td>\n",
       "      <td>1.0</td>\n",
       "      <td>4.0</td>\n",
       "      <td>train</td>\n",
       "      <td>0</td>\n",
       "    </tr>\n",
       "    <tr>\n",
       "      <th>4</th>\n",
       "      <td>1.0</td>\n",
       "      <td>4.0</td>\n",
       "      <td>2.0</td>\n",
       "      <td>0.0</td>\n",
       "      <td>0.0</td>\n",
       "      <td>2.0</td>\n",
       "      <td>2.0</td>\n",
       "      <td>1.0</td>\n",
       "      <td>1.0</td>\n",
       "      <td>train</td>\n",
       "      <td>0</td>\n",
       "    </tr>\n",
       "    <tr>\n",
       "      <th>...</th>\n",
       "      <td>...</td>\n",
       "      <td>...</td>\n",
       "      <td>...</td>\n",
       "      <td>...</td>\n",
       "      <td>...</td>\n",
       "      <td>...</td>\n",
       "      <td>...</td>\n",
       "      <td>...</td>\n",
       "      <td>...</td>\n",
       "      <td>...</td>\n",
       "      <td>...</td>\n",
       "    </tr>\n",
       "    <tr>\n",
       "      <th>48837</th>\n",
       "      <td>1.0</td>\n",
       "      <td>4.0</td>\n",
       "      <td>1.0</td>\n",
       "      <td>0.0</td>\n",
       "      <td>1.0</td>\n",
       "      <td>2.0</td>\n",
       "      <td>2.0</td>\n",
       "      <td>1.0</td>\n",
       "      <td>3.0</td>\n",
       "      <td>test</td>\n",
       "      <td>0</td>\n",
       "    </tr>\n",
       "    <tr>\n",
       "      <th>48838</th>\n",
       "      <td>1.0</td>\n",
       "      <td>1.0</td>\n",
       "      <td>0.0</td>\n",
       "      <td>0.0</td>\n",
       "      <td>1.0</td>\n",
       "      <td>1.0</td>\n",
       "      <td>1.0</td>\n",
       "      <td>0.0</td>\n",
       "      <td>2.0</td>\n",
       "      <td>test</td>\n",
       "      <td>0</td>\n",
       "    </tr>\n",
       "    <tr>\n",
       "      <th>48839</th>\n",
       "      <td>3.0</td>\n",
       "      <td>4.0</td>\n",
       "      <td>2.0</td>\n",
       "      <td>0.0</td>\n",
       "      <td>2.0</td>\n",
       "      <td>2.0</td>\n",
       "      <td>2.0</td>\n",
       "      <td>1.0</td>\n",
       "      <td>3.0</td>\n",
       "      <td>test</td>\n",
       "      <td>0</td>\n",
       "    </tr>\n",
       "    <tr>\n",
       "      <th>48840</th>\n",
       "      <td>1.0</td>\n",
       "      <td>1.0</td>\n",
       "      <td>0.0</td>\n",
       "      <td>2.0</td>\n",
       "      <td>2.0</td>\n",
       "      <td>2.0</td>\n",
       "      <td>2.0</td>\n",
       "      <td>1.0</td>\n",
       "      <td>4.0</td>\n",
       "      <td>test</td>\n",
       "      <td>0</td>\n",
       "    </tr>\n",
       "    <tr>\n",
       "      <th>48841</th>\n",
       "      <td>4.0</td>\n",
       "      <td>4.0</td>\n",
       "      <td>2.0</td>\n",
       "      <td>0.0</td>\n",
       "      <td>2.0</td>\n",
       "      <td>2.0</td>\n",
       "      <td>2.0</td>\n",
       "      <td>1.0</td>\n",
       "      <td>2.0</td>\n",
       "      <td>test</td>\n",
       "      <td>1</td>\n",
       "    </tr>\n",
       "  </tbody>\n",
       "</table>\n",
       "<p>48842 rows × 11 columns</p>\n",
       "</div>"
      ],
      "text/plain": [
       "       hours_per_week_bin  occupation_bin  msr_bin  capital_gl_bin  \\\n",
       "0                     1.0             1.0      1.0             2.0   \n",
       "1                     0.0             4.0      2.0             0.0   \n",
       "2                     1.0             0.0      1.0             0.0   \n",
       "3                     1.0             0.0      2.0             0.0   \n",
       "4                     1.0             4.0      2.0             0.0   \n",
       "...                   ...             ...      ...             ...   \n",
       "48837                 1.0             4.0      1.0             0.0   \n",
       "48838                 1.0             1.0      0.0             0.0   \n",
       "48839                 3.0             4.0      2.0             0.0   \n",
       "48840                 1.0             1.0      0.0             2.0   \n",
       "48841                 4.0             4.0      2.0             0.0   \n",
       "\n",
       "       race_sex_bin  education_num_bin  education_bin  workclass_bin  age_bin  \\\n",
       "0               2.0                2.0            2.0            1.0      3.0   \n",
       "1               2.0                2.0            2.0            1.0      4.0   \n",
       "2               2.0                1.0            1.0            1.0      3.0   \n",
       "3               1.0                0.0            0.0            1.0      4.0   \n",
       "4               0.0                2.0            2.0            1.0      1.0   \n",
       "...             ...                ...            ...            ...      ...   \n",
       "48837           1.0                2.0            2.0            1.0      3.0   \n",
       "48838           1.0                1.0            1.0            0.0      2.0   \n",
       "48839           2.0                2.0            2.0            1.0      3.0   \n",
       "48840           2.0                2.0            2.0            1.0      4.0   \n",
       "48841           2.0                2.0            2.0            1.0      2.0   \n",
       "\n",
       "        flag  y  \n",
       "0      train  0  \n",
       "1      train  0  \n",
       "2      train  0  \n",
       "3      train  0  \n",
       "4      train  0  \n",
       "...      ... ..  \n",
       "48837   test  0  \n",
       "48838   test  0  \n",
       "48839   test  0  \n",
       "48840   test  0  \n",
       "48841   test  1  \n",
       "\n",
       "[48842 rows x 11 columns]"
      ]
     },
     "execution_count": 9,
     "metadata": {},
     "output_type": "execute_result"
    }
   ],
   "source": [
    "# check to see if dataframe enumberated properly - yes, dataframe looks good\n",
    "df_enum"
   ]
  },
  {
   "cell_type": "code",
   "execution_count": 10,
   "metadata": {},
   "outputs": [],
   "source": [
    "# separate the enumerated data into train and test segments using the 'flag' column\n",
    "df_train, df_test =df.loc[df_enum['flag']=='train'],df.loc[df_enum['flag']=='test']"
   ]
  },
  {
   "cell_type": "code",
   "execution_count": 11,
   "metadata": {},
   "outputs": [],
   "source": [
    "# strip off 'flag' and 'y' columns from X valued data (both train and test data)\n",
    "# create y data (outcome data) to be used to validate prediction\n",
    "X_train, y_train = df_train[cols], df_train['y']\n",
    "X_test, y_test = df_test[cols], df_test['y']"
   ]
  },
  {
   "cell_type": "code",
   "execution_count": 12,
   "metadata": {},
   "outputs": [
    {
     "data": {
      "text/html": [
       "<div>\n",
       "<style scoped>\n",
       "    .dataframe tbody tr th:only-of-type {\n",
       "        vertical-align: middle;\n",
       "    }\n",
       "\n",
       "    .dataframe tbody tr th {\n",
       "        vertical-align: top;\n",
       "    }\n",
       "\n",
       "    .dataframe thead th {\n",
       "        text-align: right;\n",
       "    }\n",
       "</style>\n",
       "<table border=\"1\" class=\"dataframe\">\n",
       "  <thead>\n",
       "    <tr style=\"text-align: right;\">\n",
       "      <th></th>\n",
       "      <th>hours_per_week_bin</th>\n",
       "      <th>occupation_bin</th>\n",
       "      <th>msr_bin</th>\n",
       "      <th>capital_gl_bin</th>\n",
       "      <th>race_sex_bin</th>\n",
       "      <th>education_num_bin</th>\n",
       "      <th>education_bin</th>\n",
       "      <th>workclass_bin</th>\n",
       "      <th>age_bin</th>\n",
       "    </tr>\n",
       "  </thead>\n",
       "  <tbody>\n",
       "    <tr>\n",
       "      <th>0</th>\n",
       "      <td>1.0</td>\n",
       "      <td>1.0</td>\n",
       "      <td>1.0</td>\n",
       "      <td>2.0</td>\n",
       "      <td>2.0</td>\n",
       "      <td>2.0</td>\n",
       "      <td>2.0</td>\n",
       "      <td>1.0</td>\n",
       "      <td>3.0</td>\n",
       "    </tr>\n",
       "    <tr>\n",
       "      <th>1</th>\n",
       "      <td>0.0</td>\n",
       "      <td>4.0</td>\n",
       "      <td>2.0</td>\n",
       "      <td>0.0</td>\n",
       "      <td>2.0</td>\n",
       "      <td>2.0</td>\n",
       "      <td>2.0</td>\n",
       "      <td>1.0</td>\n",
       "      <td>4.0</td>\n",
       "    </tr>\n",
       "    <tr>\n",
       "      <th>2</th>\n",
       "      <td>1.0</td>\n",
       "      <td>0.0</td>\n",
       "      <td>1.0</td>\n",
       "      <td>0.0</td>\n",
       "      <td>2.0</td>\n",
       "      <td>1.0</td>\n",
       "      <td>1.0</td>\n",
       "      <td>1.0</td>\n",
       "      <td>3.0</td>\n",
       "    </tr>\n",
       "    <tr>\n",
       "      <th>3</th>\n",
       "      <td>1.0</td>\n",
       "      <td>0.0</td>\n",
       "      <td>2.0</td>\n",
       "      <td>0.0</td>\n",
       "      <td>1.0</td>\n",
       "      <td>0.0</td>\n",
       "      <td>0.0</td>\n",
       "      <td>1.0</td>\n",
       "      <td>4.0</td>\n",
       "    </tr>\n",
       "    <tr>\n",
       "      <th>4</th>\n",
       "      <td>1.0</td>\n",
       "      <td>4.0</td>\n",
       "      <td>2.0</td>\n",
       "      <td>0.0</td>\n",
       "      <td>0.0</td>\n",
       "      <td>2.0</td>\n",
       "      <td>2.0</td>\n",
       "      <td>1.0</td>\n",
       "      <td>1.0</td>\n",
       "    </tr>\n",
       "  </tbody>\n",
       "</table>\n",
       "</div>"
      ],
      "text/plain": [
       "   hours_per_week_bin  occupation_bin  msr_bin  capital_gl_bin  race_sex_bin  \\\n",
       "0                 1.0             1.0      1.0             2.0           2.0   \n",
       "1                 0.0             4.0      2.0             0.0           2.0   \n",
       "2                 1.0             0.0      1.0             0.0           2.0   \n",
       "3                 1.0             0.0      2.0             0.0           1.0   \n",
       "4                 1.0             4.0      2.0             0.0           0.0   \n",
       "\n",
       "   education_num_bin  education_bin  workclass_bin  age_bin  \n",
       "0                2.0            2.0            1.0      3.0  \n",
       "1                2.0            2.0            1.0      4.0  \n",
       "2                1.0            1.0            1.0      3.0  \n",
       "3                0.0            0.0            1.0      4.0  \n",
       "4                2.0            2.0            1.0      1.0  "
      ]
     },
     "execution_count": 12,
     "metadata": {},
     "output_type": "execute_result"
    }
   ],
   "source": [
    "# confirming X_training data looks as it should - checking that data is enumerated and 'flag' and 'y' columns absent\n",
    "X_train.head()"
   ]
  },
  {
   "cell_type": "code",
   "execution_count": 13,
   "metadata": {},
   "outputs": [
    {
     "name": "stdout",
     "output_type": "stream",
     "text": [
      "Wall time: 669 ms\n"
     ]
    }
   ],
   "source": [
    "%%time\n",
    "# running DecisionTreeClassifier with different max_depth options\n",
    "# range command creates list from 2->20 with a step of 2\n",
    "# including time command so that model creation times can be compared\n",
    "results = []\n",
    "max_depth_options = list(range(2,22,2))\n",
    "for option in max_depth_options:\n",
    "    model = DecisionTreeClassifier(max_depth=option, random_state=101)\n",
    "    model.fit(X_train,y_train)\n",
    "    y_pred = model.predict(X_test)\n",
    "    accuracy = np.mean(y_test==y_pred)\n",
    "    results.append(accuracy)"
   ]
  },
  {
   "cell_type": "code",
   "execution_count": 14,
   "metadata": {},
   "outputs": [
    {
     "data": {
      "image/png": "[encoded data removed]",
      "text/plain": [
       "<Figure size 576x288 with 1 Axes>"
      ]
     },
     "metadata": {
      "needs_background": "light"
     },
     "output_type": "display_data"
    }
   ],
   "source": [
    "# plotting accuracy score vs. max_depth for DecisionTreeClassifier\n",
    "# adding grid, labels, and adjusting sizing of graph\n",
    "plt.figure(figsize=(8,4))\n",
    "pd.Series(results, max_depth_options).plot(color='darkred',marker='o')\n",
    "plt.grid()\n",
    "plt.title(\"DecisionTreeClassifier\")\n",
    "plt.xlabel(\"max_depth\")\n",
    "plt.ylabel(\"Accuracy\")\n",
    "plt.show()"
   ]
  },
  {
   "cell_type": "code",
   "execution_count": 15,
   "metadata": {},
   "outputs": [
    {
     "name": "stdout",
     "output_type": "stream",
     "text": [
      "Wall time: 1min 41s\n"
     ]
    }
   ],
   "source": [
    "%%time\n",
    "# running RandomForestClassifier with a range of n_estimators\n",
    "# range command creates list from 50->500 with a step of 50\n",
    "# including time command so that model creation times can be compared\n",
    "results = []\n",
    "n_estimators_options = list(range(50,550,50))\n",
    "for option in n_estimators_options:\n",
    "    model = RandomForestClassifier(n_estimators = option, random_state = 42 )\n",
    "    model.fit(X_train,y_train)\n",
    "    y_pred = model.predict(X_test)\n",
    "    accuracy = np.mean(y_test==y_pred)\n",
    "    results.append(accuracy)"
   ]
  },
  {
   "cell_type": "code",
   "execution_count": 16,
   "metadata": {},
   "outputs": [
    {
     "data": {
      "image/png": "[encoded data removed]",
      "text/plain": [
       "<Figure size 576x288 with 1 Axes>"
      ]
     },
     "metadata": {
      "needs_background": "light"
     },
     "output_type": "display_data"
    }
   ],
   "source": [
    "# plotting accuracy score vs. n_estimators for RandomForestClassifier\n",
    "# adding grid, labels, and adjusting sizing of graph\n",
    "plt.figure(figsize=(8,4))\n",
    "pd.Series(results,n_estimators_options).plot(color='darkblue',marker='o')\n",
    "plt.grid()\n",
    "plt.title(\"RandomForestClassifier\")\n",
    "plt.xlabel(\"n_estimators\")\n",
    "plt.ylabel(\"Accuracy\")\n",
    "plt.show()"
   ]
  },
  {
   "cell_type": "code",
   "execution_count": 17,
   "metadata": {},
   "outputs": [
    {
     "name": "stdout",
     "output_type": "stream",
     "text": [
      "Wall time: 1min 38s\n"
     ]
    }
   ],
   "source": [
    "%%time\n",
    "# running AdaBoostClassifier with a range of n_estimators\n",
    "# range command creates list from 50->500 with a step of 50\n",
    "# including time command so that model creation times can be compared\n",
    "results = []\n",
    "n_estimators_options = list(range(50,550,50))\n",
    "for option in n_estimators_options:\n",
    "    model = AdaBoostClassifier(n_estimators = option, random_state = 42 )\n",
    "    model.fit(X_train,y_train)\n",
    "    y_pred = model.predict(X_test)\n",
    "    accuracy = np.mean(y_test==y_pred)\n",
    "    results.append(accuracy)"
   ]
  },
  {
   "cell_type": "code",
   "execution_count": 18,
   "metadata": {},
   "outputs": [
    {
     "data": {
      "image/png": "[encoded data removed]",
      "text/plain": [
       "<Figure size 576x288 with 1 Axes>"
      ]
     },
     "metadata": {
      "needs_background": "light"
     },
     "output_type": "display_data"
    }
   ],
   "source": [
    "# plotting accuracy score vs. n_estimators for AdaBoostClassifier\n",
    "# adding grid, labels, and adjusting sizing of graph\n",
    "plt.figure(figsize=(8,4))\n",
    "pd.Series(results,n_estimators_options).plot(color='darkgreen',marker='o')\n",
    "plt.grid()\n",
    "plt.title(\"AdaBoostClassifier\")\n",
    "plt.xlabel(\"n_estimators\")\n",
    "plt.ylabel(\"Accuracy\")\n",
    "plt.show()"
   ]
  },
  {
   "cell_type": "code",
   "execution_count": 19,
   "metadata": {},
   "outputs": [
    {
     "name": "stdout",
     "output_type": "stream",
     "text": [
      "Wall time: 1min 29s\n"
     ]
    }
   ],
   "source": [
    "%%time\n",
    "# running GradientBoostingClassifier with a range of n_estimators\n",
    "# range command creates list from 50->500 with a step of 50\n",
    "# including time command so that model creation times can be compared\n",
    "results = []\n",
    "n_estimators_options = list(range(50,550,50))\n",
    "for option in n_estimators_options:\n",
    "    model = GradientBoostingClassifier(n_estimators = option, random_state = 42 )\n",
    "    model.fit(X_train,y_train)\n",
    "    y_pred = model.predict(X_test)\n",
    "    accuracy = np.mean(y_test==y_pred)\n",
    "    results.append(accuracy)"
   ]
  },
  {
   "cell_type": "code",
   "execution_count": 20,
   "metadata": {},
   "outputs": [
    {
     "data": {
      "image/png": "[encoded data removed]",
      "text/plain": [
       "<Figure size 576x288 with 1 Axes>"
      ]
     },
     "metadata": {
      "needs_background": "light"
     },
     "output_type": "display_data"
    }
   ],
   "source": [
    "# plotting accuracy score vs. n_estimators for GradientBoostingClassifier\n",
    "# adding grid, labels, and adjusting sizing of graph\n",
    "plt.figure(figsize=(8,4))\n",
    "pd.Series(results,n_estimators_options).plot(color='darkorange',marker='o')\n",
    "plt.grid()\n",
    "plt.title(\"GradientBoostingClassifier\")\n",
    "plt.xlabel(\"n_estimators\")\n",
    "plt.ylabel(\"Accuracy\")\n",
    "plt.show()"
   ]
  },
  {
   "cell_type": "code",
   "execution_count": 21,
   "metadata": {},
   "outputs": [
    {
     "name": "stderr",
     "output_type": "stream",
     "text": [
      "C:\\Users\\zack\\anaconda3\\lib\\site-packages\\xgboost\\sklearn.py:888: UserWarning: The use of label encoder in XGBClassifier is deprecated and will be removed in a future release. To remove this warning, do the following: 1) Pass option use_label_encoder=False when constructing XGBClassifier object; and 2) Encode your labels (y) as integers starting with 0, i.e. 0, 1, 2, ..., [num_class - 1].\n",
      "  warnings.warn(label_encoder_deprecation_msg, UserWarning)\n"
     ]
    },
    {
     "name": "stdout",
     "output_type": "stream",
     "text": [
      "Wall time: 58.7 s\n"
     ]
    }
   ],
   "source": [
    "%%time\n",
    "# running XGBClassifier with a range of n_estimators\n",
    "# range command creates list from 50->500 with a step of 50\n",
    "# including time command so that model creation times can be compared\n",
    "results = []\n",
    "n_estimators_options = list(range(50,550,50))\n",
    "for option in n_estimators_options:\n",
    "    model = XGBClassifier(n_estimators = option, random_state = 42, verbosity=0 )\n",
    "    model.fit(X_train,y_train)\n",
    "    y_pred = model.predict(X_test)\n",
    "    accuracy = np.mean(y_test==y_pred)\n",
    "    results.append(accuracy)"
   ]
  },
  {
   "cell_type": "code",
   "execution_count": 22,
   "metadata": {},
   "outputs": [
    {
     "data": {
      "image/png": "[encoded data removed]",
      "text/plain": [
       "<Figure size 576x288 with 1 Axes>"
      ]
     },
     "metadata": {
      "needs_background": "light"
     },
     "output_type": "display_data"
    }
   ],
   "source": [
    "# plotting accuracy score vs. n_estimators for XGBClassifier\n",
    "# adding grid, labels, and adjusting sizing of graph\n",
    "plt.figure(figsize=(8,4))\n",
    "pd.Series(results,n_estimators_options).plot(color='teal',marker='o')\n",
    "plt.grid()\n",
    "plt.title(\"XGBClassifier\")\n",
    "plt.xlabel(\"n_estimators\")\n",
    "plt.ylabel(\"Accuracy\")\n",
    "plt.show()"
   ]
  },
  {
   "cell_type": "code",
   "execution_count": 23,
   "metadata": {},
   "outputs": [
    {
     "name": "stderr",
     "output_type": "stream",
     "text": [
      "C:\\Users\\zack\\anaconda3\\lib\\site-packages\\xgboost\\sklearn.py:888: UserWarning: The use of label encoder in XGBClassifier is deprecated and will be removed in a future release. To remove this warning, do the following: 1) Pass option use_label_encoder=False when constructing XGBClassifier object; and 2) Encode your labels (y) as integers starting with 0, i.e. 0, 1, 2, ..., [num_class - 1].\n",
      "  warnings.warn(label_encoder_deprecation_msg, UserWarning)\n"
     ]
    },
    {
     "name": "stdout",
     "output_type": "stream",
     "text": [
      "Wall time: 6.38 s\n"
     ]
    }
   ],
   "source": [
    "%%time\n",
    "# running all 4 models with same n_estimator and random_state to compare\n",
    "# performance of models given n_estimator value of 50\n",
    "# including time command so that model creation times can be compared\n",
    "results = []\n",
    "model_types = [RandomForestClassifier, AdaBoostClassifier, GradientBoostingClassifier, XGBClassifier]\n",
    "for model_type in model_types:\n",
    "    model = model_type(n_estimators = 50, random_state = 42)\n",
    "    model.fit(X_train,y_train)\n",
    "    y_pred = model.predict(X_test)\n",
    "    accuracy = np.mean(y_test==y_pred)\n",
    "    results.append((model_type.__name__,accuracy))"
   ]
  },
  {
   "cell_type": "code",
   "execution_count": 24,
   "metadata": {},
   "outputs": [
    {
     "data": {
      "text/html": [
       "<style  type=\"text/css\" >\n",
       "</style><table id=\"T_abd0463a_83a2_11eb_bd98_001d092052fe\" ><thead>    <tr>        <th class=\"col_heading level0 col0\" >Model</th>        <th class=\"col_heading level0 col1\" >Accuracy@50</th>    </tr></thead><tbody>\n",
       "                <tr>\n",
       "                                <td id=\"T_abd0463a_83a2_11eb_bd98_001d092052ferow0_col0\" class=\"data row0 col0\" >GradientBoostingClassifier</td>\n",
       "                        <td id=\"T_abd0463a_83a2_11eb_bd98_001d092052ferow0_col1\" class=\"data row0 col1\" >0.847061</td>\n",
       "            </tr>\n",
       "            <tr>\n",
       "                                <td id=\"T_abd0463a_83a2_11eb_bd98_001d092052ferow1_col0\" class=\"data row1 col0\" >XGBClassifier</td>\n",
       "                        <td id=\"T_abd0463a_83a2_11eb_bd98_001d092052ferow1_col1\" class=\"data row1 col1\" >0.846815</td>\n",
       "            </tr>\n",
       "            <tr>\n",
       "                                <td id=\"T_abd0463a_83a2_11eb_bd98_001d092052ferow2_col0\" class=\"data row2 col0\" >AdaBoostClassifier</td>\n",
       "                        <td id=\"T_abd0463a_83a2_11eb_bd98_001d092052ferow2_col1\" class=\"data row2 col1\" >0.844727</td>\n",
       "            </tr>\n",
       "            <tr>\n",
       "                                <td id=\"T_abd0463a_83a2_11eb_bd98_001d092052ferow3_col0\" class=\"data row3 col0\" >RandomForestClassifier</td>\n",
       "                        <td id=\"T_abd0463a_83a2_11eb_bd98_001d092052ferow3_col1\" class=\"data row3 col1\" >0.837664</td>\n",
       "            </tr>\n",
       "    </tbody></table>"
      ],
      "text/plain": [
       "<pandas.io.formats.style.Styler at 0x1e791c07b20>"
      ]
     },
     "execution_count": 24,
     "metadata": {},
     "output_type": "execute_result"
    }
   ],
   "source": [
    "# table showing accuracy vs. model type sorted by accuracy level (descending)\n",
    "output50 = pd.DataFrame(results,columns=['Model','Accuracy@50'])\n",
    "output50.sort_values(by=['Accuracy@50'],ascending=False).style.hide_index()"
   ]
  },
  {
   "cell_type": "code",
   "execution_count": 25,
   "metadata": {},
   "outputs": [
    {
     "name": "stderr",
     "output_type": "stream",
     "text": [
      "C:\\Users\\zack\\anaconda3\\lib\\site-packages\\xgboost\\sklearn.py:888: UserWarning: The use of label encoder in XGBClassifier is deprecated and will be removed in a future release. To remove this warning, do the following: 1) Pass option use_label_encoder=False when constructing XGBClassifier object; and 2) Encode your labels (y) as integers starting with 0, i.e. 0, 1, 2, ..., [num_class - 1].\n",
      "  warnings.warn(label_encoder_deprecation_msg, UserWarning)\n"
     ]
    },
    {
     "name": "stdout",
     "output_type": "stream",
     "text": [
      "Wall time: 12.1 s\n"
     ]
    }
   ],
   "source": [
    "%%time\n",
    "# running all 4 models with same n_estimator and random_state to compare\n",
    "# performance of models given n_estimator value of 100\n",
    "# including time command so that model creation times can be compared\n",
    "results = []\n",
    "model_types = [RandomForestClassifier, AdaBoostClassifier, GradientBoostingClassifier, XGBClassifier]\n",
    "for model_type in model_types:\n",
    "    model = model_type(n_estimators = 100, random_state = 42)\n",
    "    model.fit(X_train,y_train)\n",
    "    y_pred = model.predict(X_test)\n",
    "    accuracy = np.mean(y_test==y_pred)\n",
    "    results.append((model_type.__name__,accuracy))"
   ]
  },
  {
   "cell_type": "code",
   "execution_count": 26,
   "metadata": {},
   "outputs": [
    {
     "data": {
      "text/html": [
       "<style  type=\"text/css\" >\n",
       "</style><table id=\"T_b6e906ae_83a2_11eb_bc4c_001d092052fe\" ><thead>    <tr>        <th class=\"col_heading level0 col0\" >Model</th>        <th class=\"col_heading level0 col1\" >Accuracy@100</th>    </tr></thead><tbody>\n",
       "                <tr>\n",
       "                                <td id=\"T_b6e906ae_83a2_11eb_bc4c_001d092052ferow0_col0\" class=\"data row0 col0\" >GradientBoostingClassifier</td>\n",
       "                        <td id=\"T_b6e906ae_83a2_11eb_bc4c_001d092052ferow0_col1\" class=\"data row0 col1\" >0.846631</td>\n",
       "            </tr>\n",
       "            <tr>\n",
       "                                <td id=\"T_b6e906ae_83a2_11eb_bc4c_001d092052ferow1_col0\" class=\"data row1 col0\" >XGBClassifier</td>\n",
       "                        <td id=\"T_b6e906ae_83a2_11eb_bc4c_001d092052ferow1_col1\" class=\"data row1 col1\" >0.845894</td>\n",
       "            </tr>\n",
       "            <tr>\n",
       "                                <td id=\"T_b6e906ae_83a2_11eb_bc4c_001d092052ferow2_col0\" class=\"data row2 col0\" >AdaBoostClassifier</td>\n",
       "                        <td id=\"T_b6e906ae_83a2_11eb_bc4c_001d092052ferow2_col1\" class=\"data row2 col1\" >0.844911</td>\n",
       "            </tr>\n",
       "            <tr>\n",
       "                                <td id=\"T_b6e906ae_83a2_11eb_bc4c_001d092052ferow3_col0\" class=\"data row3 col0\" >RandomForestClassifier</td>\n",
       "                        <td id=\"T_b6e906ae_83a2_11eb_bc4c_001d092052ferow3_col1\" class=\"data row3 col1\" >0.837664</td>\n",
       "            </tr>\n",
       "    </tbody></table>"
      ],
      "text/plain": [
       "<pandas.io.formats.style.Styler at 0x1e792034040>"
      ]
     },
     "execution_count": 26,
     "metadata": {},
     "output_type": "execute_result"
    }
   ],
   "source": [
    "# table showing accuracy vs. model type sorted by accuracy level (descending)\n",
    "output100 = pd.DataFrame(results,columns=['Model','Accuracy@100'])\n",
    "output100.sort_values(by=['Accuracy@100'],ascending=False).style.hide_index()"
   ]
  },
  {
   "cell_type": "code",
   "execution_count": 27,
   "metadata": {},
   "outputs": [
    {
     "name": "stderr",
     "output_type": "stream",
     "text": [
      "C:\\Users\\zack\\anaconda3\\lib\\site-packages\\xgboost\\sklearn.py:888: UserWarning: The use of label encoder in XGBClassifier is deprecated and will be removed in a future release. To remove this warning, do the following: 1) Pass option use_label_encoder=False when constructing XGBClassifier object; and 2) Encode your labels (y) as integers starting with 0, i.e. 0, 1, 2, ..., [num_class - 1].\n",
      "  warnings.warn(label_encoder_deprecation_msg, UserWarning)\n"
     ]
    },
    {
     "name": "stdout",
     "output_type": "stream",
     "text": [
      "Wall time: 43.4 s\n"
     ]
    }
   ],
   "source": [
    "%%time\n",
    "# running all 4 models with same n_estimator and random_state to compare\n",
    "# performance of models given n_estimator value of 350\n",
    "# including time command so that model creation times can be compared\n",
    "results = []\n",
    "model_types = [RandomForestClassifier, AdaBoostClassifier, GradientBoostingClassifier, XGBClassifier]\n",
    "for model_type in model_types:\n",
    "    model = model_type(n_estimators = 350, random_state = 42)\n",
    "    model.fit(X_train,y_train)\n",
    "    y_pred = model.predict(X_test)\n",
    "    accuracy = np.mean(y_test==y_pred)\n",
    "    results.append((model_type.__name__,accuracy))"
   ]
  },
  {
   "cell_type": "code",
   "execution_count": 28,
   "metadata": {},
   "outputs": [
    {
     "data": {
      "text/html": [
       "<style  type=\"text/css\" >\n",
       "</style><table id=\"T_d24f1f55_83a2_11eb_85fa_001d092052fe\" ><thead>    <tr>        <th class=\"col_heading level0 col0\" >Model</th>        <th class=\"col_heading level0 col1\" >Accuracy@350</th>    </tr></thead><tbody>\n",
       "                <tr>\n",
       "                                <td id=\"T_d24f1f55_83a2_11eb_85fa_001d092052ferow0_col0\" class=\"data row0 col0\" >GradientBoostingClassifier</td>\n",
       "                        <td id=\"T_d24f1f55_83a2_11eb_85fa_001d092052ferow0_col1\" class=\"data row0 col1\" >0.847184</td>\n",
       "            </tr>\n",
       "            <tr>\n",
       "                                <td id=\"T_d24f1f55_83a2_11eb_85fa_001d092052ferow1_col0\" class=\"data row1 col0\" >AdaBoostClassifier</td>\n",
       "                        <td id=\"T_d24f1f55_83a2_11eb_85fa_001d092052ferow1_col1\" class=\"data row1 col1\" >0.844788</td>\n",
       "            </tr>\n",
       "            <tr>\n",
       "                                <td id=\"T_d24f1f55_83a2_11eb_85fa_001d092052ferow2_col0\" class=\"data row2 col0\" >XGBClassifier</td>\n",
       "                        <td id=\"T_d24f1f55_83a2_11eb_85fa_001d092052ferow2_col1\" class=\"data row2 col1\" >0.841287</td>\n",
       "            </tr>\n",
       "            <tr>\n",
       "                                <td id=\"T_d24f1f55_83a2_11eb_85fa_001d092052ferow3_col0\" class=\"data row3 col0\" >RandomForestClassifier</td>\n",
       "                        <td id=\"T_d24f1f55_83a2_11eb_85fa_001d092052ferow3_col1\" class=\"data row3 col1\" >0.837356</td>\n",
       "            </tr>\n",
       "    </tbody></table>"
      ],
      "text/plain": [
       "<pandas.io.formats.style.Styler at 0x1e791c07a00>"
      ]
     },
     "execution_count": 28,
     "metadata": {},
     "output_type": "execute_result"
    }
   ],
   "source": [
    "# table showing accuracy vs. model type sorted by accuracy level (descending)\n",
    "output350 = pd.DataFrame(results,columns=['Model','Accuracy@350'])\n",
    "output350.sort_values(by=['Accuracy@350'],ascending=False).style.hide_index()"
   ]
  },
  {
   "cell_type": "code",
   "execution_count": 29,
   "metadata": {},
   "outputs": [],
   "source": [
    "output = pd.merge(pd.merge(output50,output100, on='Model'),output350, on='Model')"
   ]
  },
  {
   "cell_type": "code",
   "execution_count": 30,
   "metadata": {},
   "outputs": [
    {
     "data": {
      "text/html": [
       "<style  type=\"text/css\" >\n",
       "</style><table id=\"T_d5b1b2d5_83a2_11eb_aa97_001d092052fe\" ><thead>    <tr>        <th class=\"col_heading level0 col0\" >Model</th>        <th class=\"col_heading level0 col1\" >Accuracy@50</th>        <th class=\"col_heading level0 col2\" >Accuracy@100</th>        <th class=\"col_heading level0 col3\" >Accuracy@350</th>    </tr></thead><tbody>\n",
       "                <tr>\n",
       "                                <td id=\"T_d5b1b2d5_83a2_11eb_aa97_001d092052ferow0_col0\" class=\"data row0 col0\" >AdaBoostClassifier</td>\n",
       "                        <td id=\"T_d5b1b2d5_83a2_11eb_aa97_001d092052ferow0_col1\" class=\"data row0 col1\" >0.844727</td>\n",
       "                        <td id=\"T_d5b1b2d5_83a2_11eb_aa97_001d092052ferow0_col2\" class=\"data row0 col2\" >0.844911</td>\n",
       "                        <td id=\"T_d5b1b2d5_83a2_11eb_aa97_001d092052ferow0_col3\" class=\"data row0 col3\" >0.844788</td>\n",
       "            </tr>\n",
       "            <tr>\n",
       "                                <td id=\"T_d5b1b2d5_83a2_11eb_aa97_001d092052ferow1_col0\" class=\"data row1 col0\" >GradientBoostingClassifier</td>\n",
       "                        <td id=\"T_d5b1b2d5_83a2_11eb_aa97_001d092052ferow1_col1\" class=\"data row1 col1\" >0.847061</td>\n",
       "                        <td id=\"T_d5b1b2d5_83a2_11eb_aa97_001d092052ferow1_col2\" class=\"data row1 col2\" >0.846631</td>\n",
       "                        <td id=\"T_d5b1b2d5_83a2_11eb_aa97_001d092052ferow1_col3\" class=\"data row1 col3\" >0.847184</td>\n",
       "            </tr>\n",
       "            <tr>\n",
       "                                <td id=\"T_d5b1b2d5_83a2_11eb_aa97_001d092052ferow2_col0\" class=\"data row2 col0\" >RandomForestClassifier</td>\n",
       "                        <td id=\"T_d5b1b2d5_83a2_11eb_aa97_001d092052ferow2_col1\" class=\"data row2 col1\" >0.837664</td>\n",
       "                        <td id=\"T_d5b1b2d5_83a2_11eb_aa97_001d092052ferow2_col2\" class=\"data row2 col2\" >0.837664</td>\n",
       "                        <td id=\"T_d5b1b2d5_83a2_11eb_aa97_001d092052ferow2_col3\" class=\"data row2 col3\" >0.837356</td>\n",
       "            </tr>\n",
       "            <tr>\n",
       "                                <td id=\"T_d5b1b2d5_83a2_11eb_aa97_001d092052ferow3_col0\" class=\"data row3 col0\" >XGBClassifier</td>\n",
       "                        <td id=\"T_d5b1b2d5_83a2_11eb_aa97_001d092052ferow3_col1\" class=\"data row3 col1\" >0.846815</td>\n",
       "                        <td id=\"T_d5b1b2d5_83a2_11eb_aa97_001d092052ferow3_col2\" class=\"data row3 col2\" >0.845894</td>\n",
       "                        <td id=\"T_d5b1b2d5_83a2_11eb_aa97_001d092052ferow3_col3\" class=\"data row3 col3\" >0.841287</td>\n",
       "            </tr>\n",
       "    </tbody></table>"
      ],
      "text/plain": [
       "<pandas.io.formats.style.Styler at 0x1e792058820>"
      ]
     },
     "execution_count": 30,
     "metadata": {},
     "output_type": "execute_result"
    }
   ],
   "source": [
    "output.sort_values(by='Model').style.hide_index()"
   ]
  },
  {
   "cell_type": "code",
   "execution_count": null,
   "metadata": {},
   "outputs": [],
   "source": []
  }
 ],
 "metadata": {
  "kernelspec": {
   "display_name": "Python 3",
   "language": "python",
   "name": "python3"
  },
  "language_info": {
   "codemirror_mode": {
    "name": "ipython",
    "version": 3
   },
   "file_extension": ".py",
   "mimetype": "text/x-python",
   "name": "python",
   "nbconvert_exporter": "python",
   "pygments_lexer": "ipython3",
   "version": "3.8.3"
  }
 },
 "nbformat": 4,
 "nbformat_minor": 4
}
